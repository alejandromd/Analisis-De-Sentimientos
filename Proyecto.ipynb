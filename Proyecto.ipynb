{
 "cells": [
  {
   "cell_type": "markdown",
   "metadata": {},
   "source": [
    "# Ánalisis de sentimientos"
   ]
  },
  {
   "cell_type": "markdown",
   "metadata": {},
   "source": [
    "Trabajo realizado por Gonzalo Campos Mejías y Alejandro Medina Durán"
   ]
  },
  {
   "cell_type": "markdown",
   "metadata": {},
   "source": [
    "## Índice"
   ]
  },
  {
   "cell_type": "markdown",
   "metadata": {},
   "source": [
    "<p><span style=\"color: #0000ff; font-size: large;\"><strong>\n",
    "<a href=\"#0\">Importado de dependencias</a></strong> </span></p>\n",
    "\n",
    "<p><span style=\"color: #0000ff; font-size: large;\"><strong>\n",
    "<a href=\"#1\">1. Recopilación de datos</a></strong> </span></p>\n",
    "\n",
    "<p style=\"text-align: left;\"> </p>\n",
    "<p><span style=\"color: #0000ff; font-size: large;\"><strong>\n",
    "<a href=\"#2\">2. Eliminación de palabras que no aportan información</a></strong> </span></p>\n",
    "\n",
    "<p><span style=\"color: #0000ff; font-size: large;\"><strong>\n",
    "<a href=\"#3\">3. Etiquetado de datos</a></strong> </span></p>\n",
    "\n",
    "<p><span style=\"color: #0000ff; font-size: large;\"><strong>\n",
    "<a href=\"#4\">4. Validación de la predicción realizada</a></strong> </span></p>\n",
    "\n",
    "<p><span style=\"color: #0000ff; font-size: large;\"><strong>\n",
    "<a href=\"#5\">5. Entrenamiento del modelo</a></strong> </span></p>\n",
    "- <a href=\"#5.1\">Validación cruzada</a></strong> </span></p>\n",
    "\n",
    "<p><span style=\"color: #0000ff; font-size: large;\"><strong>\n",
    "<a href=\"#6\">6. Predicción de tweets</a></strong> </span></p>\n",
    "\n",
    "<p><span style=\"color: #0000ff; font-size: large;\"><strong>\n",
    "<a href=\"#7\">7. Análisis de tweets de personajes públicos</a></strong> </span></p>"
   ]
  },
  {
   "cell_type": "markdown",
   "metadata": {},
   "source": [
    "<a name=\"0\"></a>\n",
    "## <span style=\"color:black\">Importado de dependencias</span>"
   ]
  },
  {
   "cell_type": "markdown",
   "metadata": {},
   "source": [
    "En la siguiente celda se incluyen todas las importaciones que serán necesarias para la ejecución del proyecto. Estas importaciones se usarán para realizar diversas tareas relacionadas con el procesamiento de texto, etiquetado de datos, vectorización de texto utilizando TF-IDF, entrenamiento y evaluación de modelos de clasificación utilizando diferentes algoritmos de aprendizaje automático, preprocesamiento de datos utilizando sklearn.preprocessing y generación de gráficos utilizando matplotlib."
   ]
  },
  {
   "cell_type": "code",
   "execution_count": 31,
   "metadata": {},
   "outputs": [
    {
     "name": "stderr",
     "output_type": "stream",
     "text": [
      "[nltk_data] Downloading package stopwords to\n",
      "[nltk_data]     C:\\Users\\aleme\\AppData\\Roaming\\nltk_data...\n",
      "[nltk_data]   Package stopwords is already up-to-date!\n",
      "[nltk_data] Downloading package wordnet to\n",
      "[nltk_data]     C:\\Users\\aleme\\AppData\\Roaming\\nltk_data...\n",
      "[nltk_data]   Package wordnet is already up-to-date!\n",
      "[nltk_data] Downloading package words to\n",
      "[nltk_data]     C:\\Users\\aleme\\AppData\\Roaming\\nltk_data...\n",
      "[nltk_data]   Package words is already up-to-date!\n"
     ]
    }
   ],
   "source": [
    "# Utilidad\n",
    "import pandas\n",
    "import numpy\n",
    "import csv\n",
    "\n",
    "# Procesado de texto\n",
    "import re\n",
    "import nltk\n",
    "nltk.download('stopwords')\n",
    "nltk.download('wordnet')\n",
    "nltk.download('words')\n",
    "from nltk.corpus import stopwords, wordnet\n",
    "from nltk.tokenize import TweetTokenizer\n",
    "from nltk.stem import WordNetLemmatizer\n",
    "from nltk.util import ngrams\n",
    "\n",
    "# Etiquetado de datos\n",
    "from textblob import TextBlob\n",
    "\n",
    "# TF-IDF vectorization\n",
    "from sklearn.feature_extraction.text import TfidfVectorizer\n",
    "\n",
    "from sklearn.model_selection import train_test_split\n",
    "\n",
    "from sklearn import naive_bayes\n",
    "from sklearn import model_selection\n",
    "from sklearn.feature_extraction.text import TfidfVectorizer\n",
    "from sklearn.naive_bayes import MultinomialNB\n",
    "from sklearn.model_selection import train_test_split\n",
    "from sklearn.metrics import accuracy_score\n",
    "from sklearn.tree import DecisionTreeClassifier\n",
    "from sklearn.neighbors import KNeighborsClassifier\n",
    "from sklearn.model_selection import cross_val_score\n",
    "from sklearn.svm import LinearSVC\n",
    "from sklearn.naive_bayes import ComplementNB\n",
    "\n",
    "# Sklearn\n",
    "import sklearn.preprocessing as preprocessing\n",
    "\n",
    "# Graphs\n",
    "import matplotlib.pyplot as plt"
   ]
  },
  {
   "cell_type": "markdown",
   "metadata": {},
   "source": [
    "<a name=\"1\"></a>\n",
    "## <span style=\"color:black\">1. Recopilación de datos</span>"
   ]
  },
  {
   "cell_type": "markdown",
   "metadata": {},
   "source": [
    "En primer lugar haremos uso de pandas para la lectura de los tweets que serán utilizados posteriormente para la aplicación de distintos algoritmos de aprendizaje automático. Estos tweets están almacenados en un csv llamado _\"tweets.csv\"_ en el cual únicamente se encuentran los mensajes en la columna \"text\". Estos datos han sido obtenidos a través de Kaggle de donde se han seleccionado los tweets a usar para el proyecto."
   ]
  },
  {
   "cell_type": "code",
   "execution_count": 32,
   "metadata": {},
   "outputs": [],
   "source": [
    "DATASET_COLUMNS = [\"text\"]\n",
    "DATASET_ENCODING = 'ISO-8859-1'\n",
    "\n",
    "dataset = pandas.read_csv('tweets.csv',encoding=DATASET_ENCODING, names=DATASET_COLUMNS, skiprows=1)"
   ]
  },
  {
   "cell_type": "markdown",
   "metadata": {},
   "source": [
    "Haciendo uso de la función \"shape\" podemos ver el número de filas y columnas del csv leído."
   ]
  },
  {
   "cell_type": "code",
   "execution_count": 33,
   "metadata": {},
   "outputs": [
    {
     "name": "stdout",
     "output_type": "stream",
     "text": [
      "(135148, 1)\n"
     ]
    }
   ],
   "source": [
    "print(dataset.shape)"
   ]
  },
  {
   "cell_type": "markdown",
   "metadata": {},
   "source": [
    "La función \"head\" nos muestra el número de tweets que le indiquemos, en este caso mostraremos los primeros 10."
   ]
  },
  {
   "cell_type": "code",
   "execution_count": 34,
   "metadata": {},
   "outputs": [
    {
     "data": {
      "text/html": [
       "<div>\n",
       "<style scoped>\n",
       "    .dataframe tbody tr th:only-of-type {\n",
       "        vertical-align: middle;\n",
       "    }\n",
       "\n",
       "    .dataframe tbody tr th {\n",
       "        vertical-align: top;\n",
       "    }\n",
       "\n",
       "    .dataframe thead th {\n",
       "        text-align: right;\n",
       "    }\n",
       "</style>\n",
       "<table border=\"1\" class=\"dataframe\">\n",
       "  <thead>\n",
       "    <tr style=\"text-align: right;\">\n",
       "      <th></th>\n",
       "      <th>text</th>\n",
       "    </tr>\n",
       "  </thead>\n",
       "  <tbody>\n",
       "    <tr>\n",
       "      <th>0</th>\n",
       "      <td>I hate when I have to call and wake people up</td>\n",
       "    </tr>\n",
       "    <tr>\n",
       "      <th>1</th>\n",
       "      <td>@oanhLove I hate when that happens...</td>\n",
       "    </tr>\n",
       "    <tr>\n",
       "      <th>2</th>\n",
       "      <td>sleep soon... i just hate saying bye and see y...</td>\n",
       "    </tr>\n",
       "    <tr>\n",
       "      <th>3</th>\n",
       "      <td>I miss you twitter. My phone broke, now I'm us...</td>\n",
       "    </tr>\n",
       "    <tr>\n",
       "      <th>4</th>\n",
       "      <td>I just saw that they found that Tracy girl in ...</td>\n",
       "    </tr>\n",
       "    <tr>\n",
       "      <th>5</th>\n",
       "      <td>Think I'm going to bed. Goodniight. I hate this</td>\n",
       "    </tr>\n",
       "    <tr>\n",
       "      <th>6</th>\n",
       "      <td>stupid movies we watched... mirrors ugggggh......</td>\n",
       "    </tr>\n",
       "    <tr>\n",
       "      <th>7</th>\n",
       "      <td>Waiting at the airport for my ride while I get...</td>\n",
       "    </tr>\n",
       "    <tr>\n",
       "      <th>8</th>\n",
       "      <td>@frago I hate you. I didn't need to see that. ...</td>\n",
       "    </tr>\n",
       "    <tr>\n",
       "      <th>9</th>\n",
       "      <td>My bathtub drain is fired: it haz 1 job 2 do, ...</td>\n",
       "    </tr>\n",
       "  </tbody>\n",
       "</table>\n",
       "</div>"
      ],
      "text/plain": [
       "                                                text\n",
       "0     I hate when I have to call and wake people up \n",
       "1             @oanhLove I hate when that happens... \n",
       "2  sleep soon... i just hate saying bye and see y...\n",
       "3  I miss you twitter. My phone broke, now I'm us...\n",
       "4  I just saw that they found that Tracy girl in ...\n",
       "5   Think I'm going to bed. Goodniight. I hate this \n",
       "6  stupid movies we watched... mirrors ugggggh......\n",
       "7  Waiting at the airport for my ride while I get...\n",
       "8  @frago I hate you. I didn't need to see that. ...\n",
       "9  My bathtub drain is fired: it haz 1 job 2 do, ..."
      ]
     },
     "execution_count": 34,
     "metadata": {},
     "output_type": "execute_result"
    }
   ],
   "source": [
    "dataset.head(10)"
   ]
  },
  {
   "cell_type": "markdown",
   "metadata": {},
   "source": [
    "<a name=\"2\"></a>\n",
    "## <span style=\"color:black\">2. Eliminación de palabras que no aportan información</span>"
   ]
  },
  {
   "cell_type": "markdown",
   "metadata": {},
   "source": [
    "En este apartado de hará uso de la librería NLTK (Natural Language Toolkit) para crear una función llamada _limpiar_texto_, la cual se encargará de: eliminar palabras comunes que aporten poca información (stop words), menciones, hashtags, URLs y cualquier otro símbolo. Se utilizarán técnicas de lematización y tokenización, son técnicas comunes utilizadas en el procesamiento de texto para simplificar y estructurar los datos de texto.\n",
    "\n",
    "La tokenización se refiere al proceso de dividir un texto en unidades más pequeñas llamadas tokens, es útil para separar el texto en elementos significativos, lo que facilita el análisis posterior.\n",
    "La lematización es el proceso de reducir las palabras a su forma base, que se conoce como lema, ayuda a reducir la dimensionalidad del vocabulario, ya que varias formas de una palabra se agrupan en una sola forma base, lo que simplifica el análisis y mejora la eficiencia del modelo."
   ]
  },
  {
   "cell_type": "markdown",
   "metadata": {},
   "source": [
    "Con el objetivo de limpiar correctamente los datos se han definido los siguientes patrones:\n",
    "\n",
    "MENTION_PATTERN = r'@[A-Za-z0-9_]+':\n",
    "Este patrón se utiliza para encontrar menciones en el texto que comienzan con el símbolo \"@\" seguido de letras, números y guiones bajos.\n",
    "\n",
    "HASHTAG_PATTERN = r'#\\w+':\n",
    "Este patrón se utiliza para encontrar hashtags en el texto que comienzan con el símbolo \"#\" seguido de una o más letras, números o guiones bajos.\n",
    "\n",
    "URL_PATTERN = r'http\\S+|www\\S+|https\\S+':\n",
    "Este patrón se utiliza para encontrar URLs en el texto. Puede identificar URLs que comienzan con \"http://\", \"www.\" o \"https://\", seguidos de cualquier combinación de caracteres que no sean espacios en blanco.\n",
    "\n",
    "NONALPHA_PATTERN = r'[^a-zA-Z\\s]':\n",
    "Este patrón se utiliza para encontrar cualquier carácter que no sea una letra o un espacio en blanco en el texto. Se utiliza para eliminar símbolos, puntuación u otros caracteres que no son relevantes para el análisis de texto.\n",
    "\n",
    "sequencePattern = r\"(.)\\1\\1+\":\n",
    "Este patrón se utiliza para encontrar secuencias de tres o más caracteres repetidos consecutivamente en el texto. Se utiliza para identificar repeticiones excesivas de letras o caracteres en una palabra, como \"loooovee\" o \"coooool\".\n",
    "\n",
    "seqReplacePattern = r\"\\1\\1\":\n",
    "Este patrón se utiliza para reemplazar las secuencias de tres o más caracteres repetidos consecutivamente por solo dos repeticiones del mismo carácter. Se utiliza para simplificar las palabras y reducir la cantidad de caracteres repetidos en el texto, como convertir \"looooong\" a \"loong\" o \"coooool\" a \"cool\"."
   ]
  },
  {
   "cell_type": "code",
   "execution_count": 35,
   "metadata": {},
   "outputs": [],
   "source": [
    "stop_words = set(stopwords.words('english'))\n",
    "lemmatizer = WordNetLemmatizer()\n",
    "tokenizer = TweetTokenizer() #\n",
    "\n",
    "MENTION_PATTERN = r'@[A-Za-z0-9_]+'\n",
    "HASHTAG_PATTERN = r'#\\w+'\n",
    "URL_PATTERN = r'http\\S+|www\\S+|https\\S+'\n",
    "NONALPHA_PATTERN = r'[^a-zA-Z\\s]'\n",
    "sequencePattern   = r\"(.)\\1\\1+\"\n",
    "seqReplacePattern = r\"\\1\\1\""
   ]
  },
  {
   "cell_type": "code",
   "execution_count": 40,
   "metadata": {},
   "outputs": [],
   "source": [
    "def limpiar_texto(text):\n",
    "    \n",
    "\n",
    "    text = re.sub(MENTION_PATTERN, '', text)\n",
    "    text = re.sub(HASHTAG_PATTERN,'', text)\n",
    "    text = re.sub(URL_PATTERN, '', text)\n",
    "    text = re.sub(NONALPHA_PATTERN, ' ', text)\n",
    "    text = re.sub(sequencePattern, seqReplacePattern, text)\n",
    "    text = text.strip()\n",
    "    \n",
    "    text = text.lower()\n",
    "    \n",
    "    tokens = tokenizer.tokenize(text)\n",
    "    tokens = [lemmatizer.lemmatize(token) for token in tokens if token not in stop_words]\n",
    "            \n",
    "    return \" \".join(tokens)"
   ]
  },
  {
   "cell_type": "markdown",
   "metadata": {},
   "source": [
    "A continuación se aplica _limpiar_texto_ a los tweets."
   ]
  },
  {
   "cell_type": "code",
   "execution_count": 41,
   "metadata": {},
   "outputs": [],
   "source": [
    "dataset.text = dataset.text.apply(lambda x: limpiar_texto(x))"
   ]
  },
  {
   "cell_type": "markdown",
   "metadata": {},
   "source": [
    "Mostramos los 10 primeros tweets de la lista a modo de ejemplo para comprobar que el método funciona correctamente, se pueden comparar con los mensajes originales mostrados en el apartado _1. Recopilación de datos_."
   ]
  },
  {
   "cell_type": "code",
   "execution_count": 43,
   "metadata": {},
   "outputs": [
    {
     "name": "stdout",
     "output_type": "stream",
     "text": [
      "hate call wake people\n",
      "hate happens\n",
      "sleep soon hate saying bye see tomorrow night\n",
      "miss twitter phone broke using stupid nokia phone ughh miss advance phone\n",
      "saw found tracy girl piece luggage fucking terrible\n",
      "think going bed goodniight hate\n",
      "stupid movie watched mirror uggh stoopeed rip\n",
      "waiting airport ride get harassed men trying sell ugly hat want sleep\n",
      "hate need see need call therapist\n",
      "bathtub drain fired haz job amp iz fail got drano as amp iz still draining wanna shower dangit\n"
     ]
    }
   ],
   "source": [
    "for i in range(10):\n",
    "    print(dataset.text[i])"
   ]
  },
  {
   "cell_type": "markdown",
   "metadata": {},
   "source": [
    "<a name=\"3\"></a>\n",
    "## <span style=\"color:black\">3. Etiquetado de datos</span>"
   ]
  },
  {
   "cell_type": "markdown",
   "metadata": {},
   "source": [
    "Se usará la librería TextBlob para etiquetar los tweets. Se etiquetan según la polaridad del mensaje, cuanto mas se acerque la polaridad a -1 es más negativo, si es 0 es neutro y, cuanto más se acerque a 1 más positivo es. Para este caso vamos a considerar un tweet como \"Muy feliz\" si la polaridad es mayor a 0.65, \"Contento\" si es menor que 0.65 mayor a 0.3, \"Neutro\" si está entre 0.3 y -0.3, \"Molesto\" si está entre -0.3 y -0.65, y \"Hater\" si la polaridad es menor a -0.65.\n",
    "\n",
    "Estos valores pueden modificarse ya que sirven para realizar una primera aproximación para la clasificación de los tweets, que luego se tendrán que corregir de forma manual.\n",
    "\n",
    "Los resultados se guardarán en un archivo llamado _classified_tweets.csv_."
   ]
  },
  {
   "cell_type": "code",
   "execution_count": 44,
   "metadata": {},
   "outputs": [],
   "source": [
    "# con polaridad\n",
    "classified_tweets = []\n",
    "\n",
    "for line in dataset.text:\n",
    "    blob = TextBlob(line)\n",
    "    polaridad = blob.sentiment.polarity\n",
    "    \n",
    "    if polaridad > 0.65:\n",
    "        label = 'Muy feliz'\n",
    "    elif polaridad > 0.3:\n",
    "        label = 'Contento'\n",
    "    elif polaridad > -0.3:\n",
    "        label = 'Neutro'\n",
    "    elif polaridad > -0.65:\n",
    "        label = 'Molesto'\n",
    "    else:\n",
    "        label = 'Hater'\n",
    "    \n",
    "    classified_tweets.append([line, label])\n",
    "\n",
    "# Guardar los resultados en un archivo CSV\n",
    "with open('classified_tweets.csv', 'w', newline='', encoding='utf-8') as file:\n",
    "    writer = csv.writer(file)\n",
    "    writer.writerow(['text', 'label'])\n",
    "    writer.writerows(classified_tweets)"
   ]
  },
  {
   "cell_type": "markdown",
   "metadata": {},
   "source": [
    "<a name=\"4\"></a>\n",
    "## <span style=\"color:black\">4. Validación de la predicción realizada</span>"
   ]
  },
  {
   "cell_type": "markdown",
   "metadata": {},
   "source": [
    "Para la validación de las etiquetas se revisarán manualmente las asignadas en el paso anterior a cada tweet. Se genera así los datos de entrenamiento y prueba, que se encuentran en _reviewed_sample.csv_."
   ]
  },
  {
   "cell_type": "code",
   "execution_count": 56,
   "metadata": {},
   "outputs": [],
   "source": [
    "dataset_reviewed = pandas.read_csv('reviewed_tweets.csv',encoding=DATASET_ENCODING, names=[\"text\", \"label\"], skiprows=1)\n",
    "text, label = list(dataset_reviewed['text']), list(dataset_reviewed['label'])"
   ]
  },
  {
   "cell_type": "markdown",
   "metadata": {},
   "source": [
    "Tras la revisión de los datos se obtiene la siguiente proporción."
   ]
  },
  {
   "cell_type": "code",
   "execution_count": 57,
   "metadata": {},
   "outputs": [
    {
     "name": "stdout",
     "output_type": "stream",
     "text": [
      "Neutro       0.258990\n",
      "Contento     0.258975\n",
      "Muy feliz    0.258968\n",
      "Hater        0.163576\n",
      "Molesto      0.059490\n",
      "dtype: float64\n"
     ]
    }
   ],
   "source": [
    "print(pandas.Series(label).value_counts(normalize=True))"
   ]
  },
  {
   "cell_type": "code",
   "execution_count": 58,
   "metadata": {},
   "outputs": [
    {
     "data": {
      "image/png": "[encoded data removed]",
      "text/plain": [
       "<Figure size 432x288 with 1 Axes>"
      ]
     },
     "metadata": {
      "needs_background": "light"
     },
     "output_type": "display_data"
    }
   ],
   "source": [
    "codificador_objetivo = preprocessing.LabelEncoder()\n",
    "objetivo_codificado = codificador_objetivo.fit_transform(label)\n",
    "# Contar las ocurrencias de cada etiqueta\n",
    "conteo_etiquetas = pandas.Series(objetivo_codificado).value_counts()\n",
    "\n",
    "# Obtener los porcentajes de cada etiqueta\n",
    "porcentajes = conteo_etiquetas / len(label) * 100\n",
    "\n",
    "# Crear la gráfica de barras\n",
    "plt.bar(porcentajes.index, porcentajes)\n",
    "plt.ylabel('Porcentaje')\n",
    "plt.title('Porcentaje de Etiquetas')\n",
    "etiquetas = codificador_objetivo.inverse_transform(porcentajes.index)\n",
    "plt.xticks(porcentajes.index, etiquetas)\n",
    "\n",
    "plt.show()"
   ]
  },
  {
   "cell_type": "markdown",
   "metadata": {},
   "source": [
    "<a name=\"5\"></a>\n",
    "## <span style=\"color:black\">5. Entrenamiento del modelo</span>"
   ]
  },
  {
   "cell_type": "markdown",
   "metadata": {},
   "source": [
    "Para poder usar los algoritmos de aprendizaje automático, se deben entrenar los modelos con los tweets ya clasificados. Para ello se realiza la división de los datos en conjuntos de entrenamiento y prueba utilizando la función train_test_split de scikit-learn, a la que se le pasan los mensajes limpios junto a sus correspondientes etiquetas, definiendo que un 20% de los datos serán de prueba siendo el otro 80% usado para el entrenamiento. Con random_state = 0 se establece la semilla para el generador de números aleatorios utilizado por train_test_split, al establecerlo en 0, se asegura que siempre se obtendrá la misma división si se ejecuta varias veces."
   ]
  },
  {
   "cell_type": "code",
   "execution_count": 59,
   "metadata": {},
   "outputs": [],
   "source": [
    "X_train, X_test, y_train, y_test = train_test_split(dataset.text.values.tolist(), label,\n",
    "                                                    test_size = 0.2, random_state = 0)"
   ]
  },
  {
   "cell_type": "markdown",
   "metadata": {},
   "source": [
    "TfidfVectorizer: Esta es una clase de scikit-learn que se utiliza para convertir una colección de documentos de texto en una matriz TF-IDF, es una medida que asigna pesos a las palabras en función de su frecuencia en un documento y en todo el corpus. Esto permite capturar la importancia relativa de una palabra en un documento en comparación con el corpus completo.\n",
    "\n",
    "ngram_range=(1, 3): Este parámetro especifica el rango de n-gramas que se utilizarán al construir las características. En este caso, se utilizarán n-gramas de tamaño 1 (unigrama), 2 (bigrama) y 3 (trigrama). Esto significa que se considerarán secuencias de una a tres palabras consecutivas como características.\n",
    "\n",
    "sublinear_tf=True: Este parámetro aplica una transformación logarítmica a la frecuencia de término para suavizar la escala. Esto ayuda a evitar una sobrevaloración de palabras que aparecen con alta frecuencia en el texto.\n",
    "\n",
    "use_idf=True: Este parámetro especifica si se debe utilizar la ponderación IDF (Inverse Document Frequency) en la matriz TF-IDF. La ponderación IDF asigna un peso más alto a las palabras menos frecuentes y un peso más bajo a las palabras más frecuentes en el corpus.\n",
    "\n",
    "Con vectoriser.fit(X_train) se ajusta el vectorizador a los datos de entrenamiento X_train. Esto significa que el vectorizador analizará los textos de entrenamiento y aprenderá el vocabulario y las estadísticas necesarias para construir la matriz TF-IDF."
   ]
  },
  {
   "cell_type": "code",
   "execution_count": 60,
   "metadata": {},
   "outputs": [
    {
     "data": {
      "text/html": [
       "<style>#sk-container-id-1 {color: black;background-color: white;}#sk-container-id-1 pre{padding: 0;}#sk-container-id-1 div.sk-toggleable {background-color: white;}#sk-container-id-1 label.sk-toggleable__label {cursor: pointer;display: block;width: 100%;margin-bottom: 0;padding: 0.3em;box-sizing: border-box;text-align: center;}#sk-container-id-1 label.sk-toggleable__label-arrow:before {content: \"▸\";float: left;margin-right: 0.25em;color: #696969;}#sk-container-id-1 label.sk-toggleable__label-arrow:hover:before {color: black;}#sk-container-id-1 div.sk-estimator:hover label.sk-toggleable__label-arrow:before {color: black;}#sk-container-id-1 div.sk-toggleable__content {max-height: 0;max-width: 0;overflow: hidden;text-align: left;background-color: #f0f8ff;}#sk-container-id-1 div.sk-toggleable__content pre {margin: 0.2em;color: black;border-radius: 0.25em;background-color: #f0f8ff;}#sk-container-id-1 input.sk-toggleable__control:checked~div.sk-toggleable__content {max-height: 200px;max-width: 100%;overflow: auto;}#sk-container-id-1 input.sk-toggleable__control:checked~label.sk-toggleable__label-arrow:before {content: \"▾\";}#sk-container-id-1 div.sk-estimator input.sk-toggleable__control:checked~label.sk-toggleable__label {background-color: #d4ebff;}#sk-container-id-1 div.sk-label input.sk-toggleable__control:checked~label.sk-toggleable__label {background-color: #d4ebff;}#sk-container-id-1 input.sk-hidden--visually {border: 0;clip: rect(1px 1px 1px 1px);clip: rect(1px, 1px, 1px, 1px);height: 1px;margin: -1px;overflow: hidden;padding: 0;position: absolute;width: 1px;}#sk-container-id-1 div.sk-estimator {font-family: monospace;background-color: #f0f8ff;border: 1px dotted black;border-radius: 0.25em;box-sizing: border-box;margin-bottom: 0.5em;}#sk-container-id-1 div.sk-estimator:hover {background-color: #d4ebff;}#sk-container-id-1 div.sk-parallel-item::after {content: \"\";width: 100%;border-bottom: 1px solid gray;flex-grow: 1;}#sk-container-id-1 div.sk-label:hover label.sk-toggleable__label {background-color: #d4ebff;}#sk-container-id-1 div.sk-serial::before {content: \"\";position: absolute;border-left: 1px solid gray;box-sizing: border-box;top: 0;bottom: 0;left: 50%;z-index: 0;}#sk-container-id-1 div.sk-serial {display: flex;flex-direction: column;align-items: center;background-color: white;padding-right: 0.2em;padding-left: 0.2em;position: relative;}#sk-container-id-1 div.sk-item {position: relative;z-index: 1;}#sk-container-id-1 div.sk-parallel {display: flex;align-items: stretch;justify-content: center;background-color: white;position: relative;}#sk-container-id-1 div.sk-item::before, #sk-container-id-1 div.sk-parallel-item::before {content: \"\";position: absolute;border-left: 1px solid gray;box-sizing: border-box;top: 0;bottom: 0;left: 50%;z-index: -1;}#sk-container-id-1 div.sk-parallel-item {display: flex;flex-direction: column;z-index: 1;position: relative;background-color: white;}#sk-container-id-1 div.sk-parallel-item:first-child::after {align-self: flex-end;width: 50%;}#sk-container-id-1 div.sk-parallel-item:last-child::after {align-self: flex-start;width: 50%;}#sk-container-id-1 div.sk-parallel-item:only-child::after {width: 0;}#sk-container-id-1 div.sk-dashed-wrapped {border: 1px dashed gray;margin: 0 0.4em 0.5em 0.4em;box-sizing: border-box;padding-bottom: 0.4em;background-color: white;}#sk-container-id-1 div.sk-label label {font-family: monospace;font-weight: bold;display: inline-block;line-height: 1.2em;}#sk-container-id-1 div.sk-label-container {text-align: center;}#sk-container-id-1 div.sk-container {/* jupyter's `normalize.less` sets `[hidden] { display: none; }` but bootstrap.min.css set `[hidden] { display: none !important; }` so we also need the `!important` here to be able to override the default hidden behavior on the sphinx rendered scikit-learn.org. See: https://github.com/scikit-learn/scikit-learn/issues/21755 */display: inline-block !important;position: relative;}#sk-container-id-1 div.sk-text-repr-fallback {display: none;}</style><div id=\"sk-container-id-1\" class=\"sk-top-container\"><div class=\"sk-text-repr-fallback\"><pre>TfidfVectorizer(ngram_range=(1, 3), sublinear_tf=True)</pre><b>In a Jupyter environment, please rerun this cell to show the HTML representation or trust the notebook. <br />On GitHub, the HTML representation is unable to render, please try loading this page with nbviewer.org.</b></div><div class=\"sk-container\" hidden><div class=\"sk-item\"><div class=\"sk-estimator sk-toggleable\"><input class=\"sk-toggleable__control sk-hidden--visually\" id=\"sk-estimator-id-1\" type=\"checkbox\" checked><label for=\"sk-estimator-id-1\" class=\"sk-toggleable__label sk-toggleable__label-arrow\">TfidfVectorizer</label><div class=\"sk-toggleable__content\"><pre>TfidfVectorizer(ngram_range=(1, 3), sublinear_tf=True)</pre></div></div></div></div></div>"
      ],
      "text/plain": [
       "TfidfVectorizer(ngram_range=(1, 3), sublinear_tf=True)"
      ]
     },
     "execution_count": 60,
     "metadata": {},
     "output_type": "execute_result"
    }
   ],
   "source": [
    "vectoriser = TfidfVectorizer(ngram_range=(1, 3),sublinear_tf=True, use_idf=True)\n",
    "vectoriser.fit(X_train)"
   ]
  },
  {
   "cell_type": "markdown",
   "metadata": {},
   "source": [
    "Se aplica la transformación del vectorizador TF-IDF a los conjuntos de entrenamiento y prueba."
   ]
  },
  {
   "cell_type": "code",
   "execution_count": 61,
   "metadata": {},
   "outputs": [],
   "source": [
    "X_train = vectoriser.transform(X_train)\n",
    "X_test  = vectoriser.transform(X_test)"
   ]
  },
  {
   "cell_type": "markdown",
   "metadata": {},
   "source": [
    "<a name=\"5.1\"></a>\n",
    "### <span style=\"color:black\">Validación cruzada</span>"
   ]
  },
  {
   "cell_type": "markdown",
   "metadata": {},
   "source": [
    "Se separan de los datos de _reviewed_sample.csv_ el conjunto de entrenamiento y de prueba. La validación cruzada consiste en dividir los datos en un número de pliegues \"cv\". Por ejemplo, si se establece cv=5, los datos se dividirán en 5 pliegues o partes iguales. Luego, el modelo se entrenará y evaluará 5 veces, utilizando cada vez un pliegue diferente como conjunto de prueba y el resto de los pliegues como conjunto de entrenamiento.\n",
    "\n",
    "El rendimiento del modelo se evalúa para cada pliegue y se devuelve una lista de puntuaciones de rendimiento correspondientes a cada iteración. Estas puntuaciones se pueden utilizar para calcular una métrica agregada, como la media, que proporciona una estimación del rendimiento general del modelo. Se usará el modelo cuya precisión sea mayor"
   ]
  },
  {
   "cell_type": "code",
   "execution_count": 65,
   "metadata": {},
   "outputs": [
    {
     "name": "stdout",
     "output_type": "stream",
     "text": [
      "Precisión media Naive Bayes: 0.7484599537993325\n"
     ]
    }
   ],
   "source": [
    "# Entrenar y evaluar el modelo Naive Bayes\n",
    "naive_bayes = MultinomialNB()\n",
    "scores_naive_bayes = cross_val_score(naive_bayes, X_train, y_train, cv=6)\n",
    "precision_media_naive_bayes = scores_naive_bayes.mean()\n",
    "\n",
    "print(\"Precisión media Naive Bayes:\", precision_media_naive_bayes)"
   ]
  },
  {
   "cell_type": "code",
   "execution_count": 67,
   "metadata": {},
   "outputs": [
    {
     "name": "stdout",
     "output_type": "stream",
     "text": [
      "Precisión media Árbol de Decisión: 0.854677297027322\n"
     ]
    }
   ],
   "source": [
    "# Entrenar y evaluar el modelo Árbol de Decisión\n",
    "arbol_decision = DecisionTreeClassifier()\n",
    "scores_arbol_decision = cross_val_score(arbol_decision, X_train, y_train, cv=2)\n",
    "precision_media_arbol_decision = scores_arbol_decision.mean()\n",
    "\n",
    "print(\"Precisión media Árbol de Decisión:\", precision_media_arbol_decision)"
   ]
  },
  {
   "cell_type": "code",
   "execution_count": 68,
   "metadata": {},
   "outputs": [
    {
     "name": "stdout",
     "output_type": "stream",
     "text": [
      "Precisión media kNN: 0.3140180173514123\n"
     ]
    }
   ],
   "source": [
    "# Entrenar y evaluar el modelo k-NN\n",
    "knn = KNeighborsClassifier()\n",
    "scores_knn = cross_val_score(knn, X_train, y_train, cv=2)\n",
    "precision_media_knn = scores_knn.mean()\n",
    "\n",
    "print(\"Precisión media kNN:\", precision_media_knn)"
   ]
  },
  {
   "cell_type": "code",
   "execution_count": 85,
   "metadata": {},
   "outputs": [
    {
     "name": "stdout",
     "output_type": "stream",
     "text": [
      "Precisión media LinearSVC: 0.8595700520170707\n"
     ]
    }
   ],
   "source": [
    "# Entrenar y evaluar el modelo linearsvc\n",
    "linear_svc = LinearSVC()\n",
    "scores_linear_svc = cross_val_score(linear_svc, X_train, y_train, cv=6)\n",
    "precision_media_linear_svc = scores_linear_svc.mean()\n",
    "\n",
    "print(\"Precisión media LinearSVC:\", precision_media_linear_svc)"
   ]
  },
  {
   "cell_type": "code",
   "execution_count": 70,
   "metadata": {},
   "outputs": [
    {
     "name": "stdout",
     "output_type": "stream",
     "text": [
      "Precisión media ComplementNB: 0.7776688129028555\n"
     ]
    }
   ],
   "source": [
    "# Entrenar y evaluar el modelo complement naive bayes\n",
    "complement_nb = ComplementNB()\n",
    "scores_complement_nb = cross_val_score(complement_nb, X_train, y_train, cv=5)\n",
    "precision_media_complement_nb = scores_complement_nb.mean()\n",
    "\n",
    "print(\"Precisión media ComplementNB:\", precision_media_complement_nb)"
   ]
  },
  {
   "cell_type": "markdown",
   "metadata": {},
   "source": [
    "Después de obtener los resultados anteriores comparamos las precisiones y cogemos el modelo con mayor precision."
   ]
  },
  {
   "cell_type": "code",
   "execution_count": 72,
   "metadata": {},
   "outputs": [
    {
     "name": "stdout",
     "output_type": "stream",
     "text": [
      "el mejor modelo tras aplicar validación cruzada es: LinearSVC()\n"
     ]
    }
   ],
   "source": [
    "mejor_modelo = max(precision_media_naive_bayes, precision_media_arbol_decision, precision_media_knn,\n",
    "                   precision_media_linear_svc, precision_media_complement_nb)\n",
    "\n",
    "if mejor_modelo == precision_media_naive_bayes:\n",
    "    modelo = naive_bayes\n",
    "elif mejor_modelo == precision_media_arbol_decision:\n",
    "    modelo = arbol_decision\n",
    "elif mejor_modelo == precision_media_knn:\n",
    "    modelo = knn\n",
    "elif mejor_modelo == precision_media_linear_svc:\n",
    "    modelo = linear_svc\n",
    "elif mejor_modelo == precision_media_complement_nb:\n",
    "    modelo = complement_nb\n",
    "    \n",
    "print(\"el mejor modelo tras aplicar validación cruzada es:\",modelo)"
   ]
  },
  {
   "cell_type": "markdown",
   "metadata": {},
   "source": [
    "Tras la ejecución de los algoritmos se puede ver que naive bayes y complement naive bayes tienen una buena precisión, un 75% aproximadamente cada uno, además comparando con los demás modelos se puede decir que ambos son eficientes. El modelo de knn no es fiable a la hora de la predicción de sentimientos ya que tiene un 33% de precisión aproximadamente. Sin embargo, hay dos modelos que tienen una alta precisión, LinearSVC y Árbol de Decisiones, aunque entre ellos hemos encontrado una diferencia importante cuando hablamos de eficiencia al ejecutarlos.\n",
    "\n",
    "Respecto a la diferencia de eficiencia entre LinearSVC y Árbol de Decisiones, a pesar de que ambos modelos tienen una alta precisión (85% aproximadamente), el Árbol de Decisiones es menos eficiente en términos de velocidad de entrenamiento y tiempo de predicción. Esto se debe a que el Árbol de Decisiones puede construir estructuras de árbol más complejas, lo que puede llevar a una mayor complejidad computacional. Por otro lado, LinearSVC utiliza técnicas de optimización más eficientes para resolver el problema de clasificación, lo que puede resultar en un entrenamiento y predicción más rápidos."
   ]
  },
  {
   "cell_type": "markdown",
   "metadata": {},
   "source": [
    "<a name=\"6\"></a>\n",
    "## <span style=\"color:black\">6. Predicción de tweets</span>"
   ]
  },
  {
   "cell_type": "markdown",
   "metadata": {},
   "source": [
    "Utilizando el modelo con mejor rendimiento se va a predecir el sentimiento de los tweets del conjunto de pruebas"
   ]
  },
  {
   "cell_type": "code",
   "execution_count": 73,
   "metadata": {},
   "outputs": [
    {
     "name": "stdout",
     "output_type": "stream",
     "text": [
      "Precisión del modelo SVC: 0.8785053644099149\n"
     ]
    }
   ],
   "source": [
    "if mejor_modelo == precision_media_naive_bayes:\n",
    "    \n",
    "    naive_bayes = MultinomialNB()\n",
    "    naive_bayes.fit(X_train, y_train) # Entrenar el modelo Naive Bayes\n",
    "\n",
    "    predicciones = naive_bayes.predict(X_test) # Realizar predicciones en el conjunto de prueba\n",
    "    \n",
    "    precision = accuracy_score(y_test, predicciones) # Calcular la precisión del modelo\n",
    "    print(\"Precisión del modelo Naive Bayes:\", precision)\n",
    "    \n",
    "elif mejor_modelo == precision_media_arbol_decision:\n",
    "\n",
    "    decision_tree = DecisionTreeClassifier()\n",
    "    decision_tree.fit(X_train, y_train) \n",
    "    \n",
    "    predicciones = decision_tree.predict(X_test) \n",
    "    \n",
    "    precision = accuracy_score(y_test, predicciones)\n",
    "    print(\"Precisión del modelo Árbol de Decisión:\", precision)\n",
    "    \n",
    "elif mejor_modelo == precision_media_knn:\n",
    "    \n",
    "    knn = KNeighborsClassifier()\n",
    "    knn.fit(X_train, y_train)\n",
    "\n",
    "    predicciones = knn.predict(X_test)\n",
    "    \n",
    "    precision = accuracy_score(y_test, predicciones)\n",
    "    print(\"Precisión del modelo kNN:\", precision)\n",
    "    \n",
    "elif mejor_modelo == precision_media_linear_svc:\n",
    "    linearSVC = LinearSVC()\n",
    "    linearSVC.fit(X_train, y_train)\n",
    "\n",
    "    predicciones = linearSVC.predict(X_test)\n",
    "\n",
    "    precision = accuracy_score(y_test, predicciones)\n",
    "    print(\"Precisión del modelo LinearSVC:\", precision)\n",
    "    \n",
    "elif mejor_modelo == precision_media_complement_nb:\n",
    "    cnb = ComplementNB()\n",
    "    cnb.fit(X_train, y_train)\n",
    "\n",
    "    predicciones = cnb.predict(X_test)\n",
    "\n",
    "    precision = accuracy_score(y_test, predicciones)\n",
    "    print(\"Precisión del modelo complement Naive Bayes:\", precision)"
   ]
  },
  {
   "cell_type": "markdown",
   "metadata": {},
   "source": [
    "Tras ejecutar el algoritmo con los datos de prueba y entrenamiento definidos arriba se puede observar que tiene una precisión muy alta, a lo que si se suma su rápida ejecución, se puede decir que LinearSVC es un modelo de aprendizaje automático muy efectivo cuando se trata de categorizar los sentimientos de textos.\n",
    "\n",
    "Una precisión del 87.8% aproximadamente es bastante buena y muestra un rendimiento sólido del modelo en la tarea de clasificación de sentimientos. Esto indica que el modelo pudo aprender patrones relevantes en los datos de entrenamiento y generalizarlos correctamente en el conjunto de prueba.\n",
    "\n",
    "Una alta precisión del 87.8% sugiere que el modelo es capaz de capturar eficientemente las características distintivas de los textos y clasificarlos correctamente en categorías de sentimientos. Esto es un indicio de que LinearSVC es una opción sólida para la clasificación de sentimientos"
   ]
  },
  {
   "cell_type": "markdown",
   "metadata": {},
   "source": [
    "<a name=\"7\"></a>\n",
    "## <span style=\"color:black\">7. Análisis de tweets de personajes públicos</span>"
   ]
  },
  {
   "cell_type": "markdown",
   "metadata": {},
   "source": [
    "Se recopilarán los últimos 30 tweets de dos personas conocidas en redes sociales, una de ella conocida por ser hater y la otra por ser más positiva. Con estos tweets el objetivo es analizarlos con el mejor modelo obtenido en el paso anterior para llegar a la conclusión de si la buena o mala fama que tienen está reflejada también en sus publicaciones.\n",
    "\n",
    "Se añadirá un pie chart para ver visualmente el estado de ánimo de estas personas respecto a sus tweets publicados.\n",
    "\n",
    "Debido a que no usamos la api de Twitter, la obtención de estos tweets se hará manualmente entrando en las cuentas de estas dos personas. En concreto vamos a analizar los tweets de @AlexGoldberg_ (hater) y @PostMalone (persona con valoración social positiva)"
   ]
  },
  {
   "cell_type": "code",
   "execution_count": 99,
   "metadata": {},
   "outputs": [],
   "source": [
    "# Obtener los últimos 30 tweets de la persona con mala fama (hater)\n",
    "lista_tweets_hater = ['Happy or Jack Grealish. Gets so much shit for just being a real person with personality. Can’t imagine the state he’s gonna be in for the next 72 hours… and good for him, lol.',\n",
    "                     'I HATE that Man City have now won a CL, hate it, but you gotta be in awe of Pep Guardiola, man. We are witnessing one of the greatest managers any sport will ever have, he sets the bar & keeps on raising it. He’s unbelievable.',\n",
    "                     'Ok Rom, you’re about to have a one night stand in my heart. Do your thing, big man….',\n",
    "                     'Lukaku loves sabotaging his own teams.',\n",
    "                     'Anyone getting all serious saying “he couldn’t do anything about it” doesn’t belong on this platform.',\n",
    "                     'I want Inter to win (badly) but on a personal level you gotta feel for De Bruyne. Work hard all season long for this moment and for the 2nd time in your career you have to be removed from a Champions League Final.',\n",
    "                     'Day 26 of posting a pic of Christopher Nkunku until he’s seen holding up a Chelsea shirt…',\n",
    "                     'If you missed my Chelsea Transfer Space with @CFCPys & many others, here it is. We spoke about:1. Mike Maignan news2. Chelsea’s high valuations3. Why we could have trouble selling4. Mount & Havertz deal differences5. Caicedo, Lavia & more',\n",
    "                     'The top reason I’m getting more sold on Casadei isn’t the scoring. That was already the big advertisement when we signed him. It’s the fact that it seems like he’s got some attitude & grit between the teeth. Man do we lack that at the senior level. He & Andrey seem to have it.',\n",
    "                     '🗣️ Important points here made by @LaurensJulien. Watch this clip on YouTube, where he singles out what Poch, ownership & the players need to be wary of.YouTube: https://youtu.be/agHQuDnp1CQ',\n",
    "                     'Ayyy we’re doing it again. Join me, @CFCPys & @TheBlueDodger for another Chelsea Transfer Talk Space later, at 9:30pm UK time!',\n",
    "                     'Day 25 of posting a pic of Christopher Nkunku until he’s seen holding up a Chelsea shirt…',\n",
    "                     'Swivel on it 👍🏼',\n",
    "                     'Matt Law now confirming my report from the other day that Arsenal are interested in Kai Havertz. As I also said in the report, though, he won’t be cheap, especially for a London rival.',\n",
    "                     'CAN’T STOP SCORING 🔥',\n",
    "                     'Fucking stoked. Interviewing Victor Wanyama tomorrow, who played 5 seasons under Poch!',\n",
    "                     'What a pic this is.🏆Congratulations @_DeclanRice So proud of you geez 💙',\n",
    "                     'This was such a phenomenal performance from Wesley, man. You’re absolutely crazy if you’re selling your stocks just because of how he finished the season. He’ll take huge strides next season.',\n",
    "                     'Day 24 of posting a pic of Christopher Nkunku until he’s seen holding up a Chelsea shirt…',\n",
    "                     'Said this on October 9, 2022… 👍🏼',\n",
    "                     'Ran the fucking tape for ya, @matissearmani 😘',\n",
    "                     'Kanté, man… 🥺',\n",
    "                     'Declan Rice captains his team to a European trophy. Just the beginning for him. He’ll be that much better at his next club. Myself & others got so much stick for saying for ages that he’d be the ideal DM for Chelsea and fast forward to now, almost the whole fanbase agrees.',                     '',\n",
    "                     'Day 23 of posting a pic of Christopher Nkunku until he’s seen holding up a Chelsea shirt…',\n",
    "                     'This pic perfectly encapsulates Kanté & how everyone felt about him. He scores a stunner and everyone is over the moon for him yet he doesn’t know how to react 🤣🥹💙',\n",
    "                     'This Kanté stuff just happened so quickly it feels. From a football standpoint I’m honestly ok with it, but from an emotional one it stings. Especially since he really never got the send-off that he so obviously deserved.',\n",
    "                     'Kanté leaving makes sense for him for sure and also isn’t the biggest blow for Chelsea, mainly just because he couldn’t stay fit.But shove the logic aside and it obviously hits you right in the fucking feels. That’s our little legend, man…',\n",
    "                     'So I got a long dam way to go but the progress so far on the Carnivore Diet has been mad. In less than 4 months I:- Lost 36 pounds (16.3 kilos)- Eliminated bad asthma- Eliminated bad eczema- Quit coffee & all caffeine (was an addict)- Improved sleep massively- Haven’t had 1 headache or stomachache- Am never sore after a workout… ever- Workout less but gain more than before- Am in such a better mood consistently',\n",
    "                      'I am not a doctor obviously so I would never recommend this or ANY diet to anyone, I am merely just sharing my experience with the Carnivore Diet. It’s been life changing. I feel amazing every damn day. Honestly. Every damn day.',]\n",
    "\n",
    "# Obtener los últimos 30 tweets de la persona con valoración social positiva\n",
    "lista_tweets_positivos = ['I love Scotland, and I love you 💕Mourning this Friday💕🍻',\n",
    "                         'Proud to announce my new album titled “Austin” dropping on July 28th 🥹 .This whole deal has been one of the most challenging, rewarding, and exciting records I’ve worked on. i feel it captures who i am as a man and as an artist in this moment. thank y’all so much for your patience, and thank you for being there with me in my hardest times. i love y’all so much, and am ready to fucking party with y’all. cheers, and keep spreading love💕🍻',\n",
    "                         'i love y’all so very much, and I’m so excited to get out and do some more shows for y’all🥹help me put a baby through college, and come on out🍻some cool new production, new songs, and a very very handsome man up on stage 😎 sending love to you and yours 💕💕 ',\n",
    "                         'new @raisingcanes restaurant open in utah',\n",
    "                         'pound town',\n",
    "                         'Chemical out now:)',\n",
    "                         'A big cheers to all my big special gamers out there Please listen to my new song tonight at midnight I love you 💕 https://postmalone.lnk.to/chemical',\n",
    "                         'Chemical out friday https://postmalone.lnk.to/chemical',\n",
    "                         'love u guys, hope everyone’s epic 🥰 new music soon for uuu 🍻 https://postmalone.lnk.to/presave',\n",
    "                         '😈',\n",
    "                         'Twelve Carat Tour is back. Europe & UK see you soon:) Presales start March 1st at 12p local time. Public on sale starts March 3rd at 12p local time. http://postmalone.com/shows',\n",
    "                         'love you guys🥹 let’s jam sometime🍻',\n",
    "                         'by adamdegross',\n",
    "                         'love ya @dallascowboys',\n",
    "                         'My @Wizards_Magic dreams are coming true. I’ve got 2 @MTGSecretLair drops! ‘Backstage Pass’ and ‘The Lands.’http://spr.ly/postOctDrop',\n",
    "                         'New shows added! Tickets + VIP upgrades to the #WorldPongLeague Lounge available now. Australia & New Zealand I fucking love y’all! @maison9wine also launched in AUS this week! I’ll see y’all soon!! ♥️♥️♥️ https://livenation.com.au/artist-post-malone-727892',\n",
    "                         '.@MooseKnuckles x Post Malone out now. This 10-piece collection is about doing things your own way. I’m really proud of what we created and I hope everyone will love it as much as we do. http://MooseKnucklesCanada.com & Moose Knuckles Canada Stores',\n",
    "                         'Cleveland, I will be singing the FUCK outta some songs tonight 😤 see y’all tonight 💕',\n",
    "                         'love you guys so much 💕',\n",
    "                         '.@mooseknuckles x @PostMalone drops Thursday, September 29th 12PM EST',\n",
    "                         'Minneapolis love you 💕',\n",
    "                         '♥️',\n",
    "                         'thank you Omaha 💕',\n",
    "                         'I think you will 😝',\n",
    "                         'Legend! 🍻 @djkhaled',\n",
    "                         'I like you (a happier song) limited merch capsule available now:) https://shop.postmalone.com',\n",
    "                         'Grab some friends and make your Friday night Magic #ad #MTGPartner @wizards_magic',\n",
    "                         'Win with class. Introducing the Official World Pong League game set. 🍻 Now available at Walmart and Amazon.Check out #WorldPongLeague to learn more and get yours:) https://linktr.ee/worldpongleague',\n",
    "                         'greetings all 💕',\n",
    "                         'Tonight:)']\n",
    "\n",
    "tweets_hater= []\n",
    "for line in lista_tweets_hater:\n",
    "    cleaned_tweet = limpiar_texto(line)\n",
    "    tweets_hater.append(cleaned_tweet)\n",
    "    \n",
    "tweets_positivos= []\n",
    "for line in lista_tweets_positivos:\n",
    "    cleaned_tweet = limpiar_texto(line)\n",
    "    tweets_positivos.append(cleaned_tweet)"
   ]
  },
  {
   "cell_type": "code",
   "execution_count": 100,
   "metadata": {},
   "outputs": [
    {
     "data": {
      "image/png": "[encoded data removed]",
      "text/plain": [
       "<Figure size 432x432 with 1 Axes>"
      ]
     },
     "metadata": {},
     "output_type": "display_data"
    },
    {
     "data": {
      "image/png": "[encoded data removed]",
      "text/plain": [
       "<Figure size 432x432 with 1 Axes>"
      ]
     },
     "metadata": {},
     "output_type": "display_data"
    },
    {
     "name": "stdout",
     "output_type": "stream",
     "text": [
      "Porcentaje de emociones en los Tweets Positivos:\n",
      "Contento : 0.43333333333333335\n",
      "Hater : 0.0\n",
      "Molesto : 0.0\n",
      "Muy feliz : 0.2\n",
      "Neutro : 0.36666666666666664\n",
      "\n",
      "Porcentaje de emociones en los Tweets Hater:\n",
      "Contento : 0.4666666666666667\n",
      "Hater : 0.06666666666666667\n",
      "Molesto : 0.03333333333333333\n",
      "Muy feliz : 0.13333333333333333\n",
      "Neutro : 0.3\n"
     ]
    }
   ],
   "source": [
    "modelo.fit(X_train, y_train)\n",
    "\n",
    "predicciones_positivos = modelo.predict(vectoriser.transform(tweets_positivos))\n",
    "predicciones_hater = modelo.predict(vectoriser.transform(tweets_hater))\n",
    "\n",
    "# Calcular el porcentaje de cada etiqueta en las predicciones\n",
    "porcentaje_positivos = {etiqueta: (predicciones_positivos == etiqueta).mean() for etiqueta in modelo.classes_}\n",
    "porcentaje_hater = {etiqueta: (predicciones_hater == etiqueta).mean() for etiqueta in modelo.classes_}\n",
    "\n",
    "# Generar el pie chart de las emociones\n",
    "plt.figure(figsize=(6, 6))\n",
    "plt.pie(list(porcentaje_positivos.values()), labels=list(porcentaje_positivos.keys()), autopct='%1.1f%%')\n",
    "plt.title(\"Emociones de los Tweets Positivos\")\n",
    "plt.show()\n",
    "\n",
    "plt.figure(figsize=(6, 6))\n",
    "plt.pie(list(porcentaje_hater.values()), labels=list(porcentaje_hater.keys()), autopct='%1.1f%%')\n",
    "plt.title(\"Emociones de los Tweets Hater\")\n",
    "plt.show()\n",
    "\n",
    "print(\"Porcentaje de emociones en los Tweets Positivos:\")\n",
    "for etiqueta, porcentaje in porcentaje_positivos.items():\n",
    "    print(etiqueta, \":\", porcentaje)\n",
    "\n",
    "print(\"\\nPorcentaje de emociones en los Tweets Hater:\")\n",
    "for etiqueta, porcentaje in porcentaje_hater.items():\n",
    "    print(etiqueta, \":\", porcentaje)"
   ]
  },
  {
   "cell_type": "markdown",
   "metadata": {},
   "source": [
    "Al analizar los pie chart se puede ver que la persona que hemos cogido con buena valoración social publica tweets que al menos los últimos 30 han sido positivos, ya que casi la mitad se han categorizado como \"Contento\" y un 20% como \"Muy feliz\", siendo los restantes neutros. Esto se podía ver sin muchas complicaciones al leer la lista de sus tweets ya que muchos contienen mensajes de amor o agradecimientos a distintas personas. Sin embargo si lo comparamos con la persona que hemos cogido de hater se observa que este último escribe todo tipo de tweets al tener más de uno por categoría, aun así como en el caso anterior se puede decir que la mitad se consideran como \"Contento\", esto es así porque a pesar de subir mensajes en los que puede hacer una critica de forma negativa en su mayoría según sus tweets su estado de ánimo es en mayor parte neutro y contento. Esto último se puede explicar como que aunque haya personas que sean hater a veces es díficil encontrar una persona que su mayoría de tweets sean negativos.\n",
    "\n",
    "En resumen, ha sido fácil buscar una persona con buena valoración social, pero tras estar buscando varias personas que nos pueda servir para este proyecto como hater hemos visto que a pesar de que tenga algún mensaje negativo siempre tendrá varios mensajes positivos o neutros al escribir o responder a su comunidad o a otras personas.\n",
    "\n",
    "Finalmente, basándonos en los resultados obtenidos en este último apartado se puede llegar a la conclusión de que la persona escogida como hater no ha destacado precisamente por eso pese a tener algún tweet clasificado como \"Molesto\" o \"Hater\" al ser estos minoría. Por esto mismo se podría poner como un perfil en el que la mayoría de mensajes son neutros o contento, pero también realiza criticas y expresa opiniones negativas. "
   ]
  },
  {
   "cell_type": "code",
   "execution_count": null,
   "metadata": {},
   "outputs": [],
   "source": []
  }
 ],
 "metadata": {
  "kernelspec": {
   "display_name": "Python 3",
   "language": "python",
   "name": "python3"
  },
  "language_info": {
   "codemirror_mode": {
    "name": "ipython",
    "version": 3
   },
   "file_extension": ".py",
   "mimetype": "text/x-python",
   "name": "python",
   "nbconvert_exporter": "python",
   "pygments_lexer": "ipython3",
   "version": "3.8.3"
  }
 },
 "nbformat": 4,
 "nbformat_minor": 5
}
